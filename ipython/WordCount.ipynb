{
 "metadata": {
  "name": "",
  "signature": "sha256:213e87c386990e4fa48e7a354cb9399d2a8c74486dc549597dab685ee73b5b4c"
 },
 "nbformat": 3,
 "nbformat_minor": 0,
 "worksheets": [
  {
   "cells": [
    {
     "cell_type": "code",
     "collapsed": false,
     "input": [
      "beowulf = sc.textFile('beowulf.txt.gz', 10).cache()"
     ],
     "language": "python",
     "metadata": {},
     "outputs": [],
     "prompt_number": 1
    },
    {
     "cell_type": "code",
     "collapsed": false,
     "input": [
      "beowulf.take(10) # first 10 lines"
     ],
     "language": "python",
     "metadata": {},
     "outputs": [
      {
       "metadata": {},
       "output_type": "pyout",
       "prompt_number": 2,
       "text": [
        "[u'Beowulf',\n",
        " u'Translation by Seamus Heaney',\n",
        " u'',\n",
        " u'',\n",
        " u'So.  The Spear-Danes in days gone by',\n",
        " u'And the kings who ruled them had courage and greatness.',\n",
        " u'We have heard of those princes\\u2019 heroic campaigns.',\n",
        " u'',\n",
        " u'',\n",
        " u'There was Shield Sheafson, scourge of many tribes,']"
       ]
      }
     ],
     "prompt_number": 2
    },
    {
     "cell_type": "code",
     "collapsed": false,
     "input": [
      "beowulf.count() # line count"
     ],
     "language": "python",
     "metadata": {},
     "outputs": [
      {
       "metadata": {},
       "output_type": "pyout",
       "prompt_number": 3,
       "text": [
        "3623"
       ]
      }
     ],
     "prompt_number": 3
    },
    {
     "cell_type": "code",
     "collapsed": false,
     "input": [
      "beowulf.flatMap(lambda x: x.split()).count() # word count"
     ],
     "language": "python",
     "metadata": {},
     "outputs": [
      {
       "metadata": {},
       "output_type": "pyout",
       "prompt_number": 4,
       "text": [
        "24157"
       ]
      }
     ],
     "prompt_number": 4
    },
    {
     "cell_type": "code",
     "collapsed": false,
     "input": [
      "from nltk.corpus import stopwords\n",
      "englishStopWords = stopwords.words('english')\n",
      "mostUsedWords = beowulf\\\n",
      "    .flatMap(lambda x: [x.lower() for x in x.split()])\\\n",
      "    .filter(lambda x: x not in englishStopWords)\\\n",
      "    .map(lambda x: (x, 1))\\\n",
      "    .reduceByKey(lambda x, y: x + y)\\\n",
      "    .sortBy(lambda (_ , count): - count)\\\n",
      "    .take(20)\n",
      "mostUsedWords"
     ],
     "language": "python",
     "metadata": {},
     "outputs": [
      {
       "metadata": {},
       "output_type": "pyout",
       "prompt_number": 5,
       "text": [
        "[(u'would', 82),\n",
        " (u'one', 72),\n",
        " (u'man', 65),\n",
        " (u'could', 59),\n",
        " (u'lord', 50),\n",
        " (u'king', 50),\n",
        " (u'came', 45),\n",
        " (u'beowulf', 45),\n",
        " (u'son', 42),\n",
        " (u'long', 39),\n",
        " (u'people', 38),\n",
        " (u'sword', 35),\n",
        " (u'men', 34),\n",
        " (u'life', 34),\n",
        " (u'never', 34),\n",
        " (u'prince', 34),\n",
        " (u'old', 32),\n",
        " (u'time', 31),\n",
        " (u'come', 31),\n",
        " (u'good', 31)]"
       ]
      }
     ],
     "prompt_number": 5
    },
    {
     "cell_type": "code",
     "collapsed": false,
     "input": [
      "%pylab inline\n",
      "rcParams['figure.figsize'] = (12,8)\n",
      "rcParams['font.size'] = 16"
     ],
     "language": "python",
     "metadata": {},
     "outputs": [
      {
       "output_type": "stream",
       "stream": "stdout",
       "text": [
        "Populating the interactive namespace from numpy and matplotlib\n"
       ]
      }
     ],
     "prompt_number": 6
    },
    {
     "cell_type": "code",
     "collapsed": false,
     "input": [
      "xticks = range(len(mostUsedWords))\n",
      "plt.bar(xticks, [i for _, i in mostUsedWords])\n",
      "plt.xticks(xticks, [w for w, _ in mostUsedWords], ha='center', rotation=50)\n",
      "None"
     ],
     "language": "python",
     "metadata": {},
     "outputs": [
      {
       "metadata": {},
       "output_type": "display_data",
       "png": "[encoded data removed]",
       "text": [
        "<matplotlib.figure.Figure at 0x7f830a7cfad0>"
       ]
      }
     ],
     "prompt_number": 7
    },
    {
     "cell_type": "code",
     "collapsed": false,
     "input": [],
     "language": "python",
     "metadata": {},
     "outputs": []
    }
   ],
   "metadata": {}
  }
 ]
}